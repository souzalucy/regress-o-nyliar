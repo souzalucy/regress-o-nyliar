{
  "nbformat": 4,
  "nbformat_minor": 0,
  "metadata": {
    "colab": {
      "provenance": []
    },
    "kernelspec": {
      "name": "python3",
      "display_name": "Python 3"
    },
    "language_info": {
      "name": "python"
    }
  },
  "cells": [
    {
      "cell_type": "code",
      "execution_count": 1,
      "metadata": {
        "id": "rE-rvwgO5A7A"
      },
      "outputs": [],
      "source": [
        "from numpy import *"
      ]
    },
    {
      "cell_type": "code",
      "source": [
        "class LinearRegression:\n",
        "  def __init__(self, x, y):\n",
        "    self.x = x\n",
        "    self.y = y\n",
        "    self.__correlation_coefficient = self.__correlacao()\n",
        "    self.__inclination = self.__inclinacao()\n",
        "    self.__intercept = self.__intecerptacao()\n",
        "\n",
        "  def __correlacao(self):\n",
        "    covariacao = cov(self.x, self.y, bias=True)[0][1]\n",
        "    variancia_x = var(self.x)\n",
        "    variancia_y = var(self.y)\n",
        "    return covariacao / sqrt(variancia_x * variancia_y)\n",
        "\n",
        "  def __inclinacao(self):\n",
        "    stdx = std(self.x)\n",
        "    stdy = std(self.y)\n",
        "    return self.__correlation_coefficient * (stdy / stdx)\n",
        "\n",
        "  def __intecerptacao(self):\n",
        "    mediax = mean(self.x)\n",
        "    mediay = mean(self.y)\n",
        "    return mediay - mediax * self.__inclination\n",
        "\n",
        "  def previsao(self, valor):\n",
        "    return self.__intercept + (self.__inclination * valor)"
      ],
      "metadata": {
        "id": "g9R4kJxX5TAH"
      },
      "execution_count": 18,
      "outputs": []
    },
    {
      "cell_type": "code",
      "source": [
        "x = array([1, 2, 3, 4, 5])\n",
        "y = array([2, 4, 6, 8, 10])"
      ],
      "metadata": {
        "id": "7CCN4Xb07qUp"
      },
      "execution_count": 19,
      "outputs": []
    },
    {
      "cell_type": "code",
      "source": [
        "lr = LinearRegression(x,y)\n",
        "previsao = lr.previsao(6)\n",
        "print(previsao)"
      ],
      "metadata": {
        "colab": {
          "base_uri": "https://localhost:8080/"
        },
        "id": "QVo0jx6M778n",
        "outputId": "0f69f552-ef83-4ee1-8c5b-e58ace7f4205"
      },
      "execution_count": 20,
      "outputs": [
        {
          "output_type": "stream",
          "name": "stdout",
          "text": [
            "12.0\n"
          ]
        }
      ]
    },
    {
      "cell_type": "code",
      "source": [],
      "metadata": {
        "id": "eJKbP1gV8KNq"
      },
      "execution_count": null,
      "outputs": []
    }
  ]
}